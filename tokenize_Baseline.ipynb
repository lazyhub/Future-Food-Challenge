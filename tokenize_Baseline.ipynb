{
 "cells": [
  {
   "cell_type": "code",
   "execution_count": 1,
   "metadata": {},
   "outputs": [],
   "source": [
    "import numpy as np\n",
    "import pandas as pd\n",
    "import matplotlib.pyplot as plt\n",
    "%matplotlib inline\n",
    "import seaborn as sns"
   ]
  },
  {
   "cell_type": "code",
   "execution_count": 2,
   "metadata": {},
   "outputs": [],
   "source": [
    "import nltk\n",
    "from nltk.corpus import words\n",
    "from nltk.corpus import stopwords\n",
    "from nltk.tokenize import sent_tokenize\n",
    "from nltk.tokenize import word_tokenize\n",
    "from nltk.tokenize import wordpunct_tokenize\n",
    "from nltk.probability import FreqDist\n",
    "from nltk.stem.snowball import SnowballStemmer\n",
    "\n",
    "from sklearn.feature_extraction.text import TfidfVectorizer\n",
    "from sklearn.preprocessing import FunctionTransformer\n",
    "from sklearn.pipeline import Pipeline\n",
    "from sklearn.feature_extraction.text import TfidfVectorizer\n",
    "from sklearn.metrics.pairwise import cosine_similarity\n",
    "from sklearn.cluster import KMeans, MeanShift, estimate_bandwidth\n",
    "from sklearn.manifold import MDS\n",
    "from sklearn.decomposition import PCA\n",
    "from sklearn.model_selection import KFold, StratifiedKFold\n",
    "from sklearn.linear_model import LogisticRegression\n",
    "from sklearn.metrics import f1_score,accuracy_score\n",
    "from sklearn.model_selection import train_test_split, GridSearchCV\n",
    "from sklearn.preprocessing import StandardScaler\n",
    "\n",
    "from scipy.cluster.hierarchy import ward, dendrogram\n",
    "\n",
    "from gensim import corpora, models, similarities\n",
    "from gensim.models import Phrases\n",
    "from gensim.models.phrases import Phraser"
   ]
  },
  {
   "cell_type": "code",
   "execution_count": 3,
   "metadata": {},
   "outputs": [],
   "source": [
    "df_train = pd.read_table('data/TrainingSet.txt', sep='\\t')"
   ]
  },
  {
   "cell_type": "code",
   "execution_count": 4,
   "metadata": {},
   "outputs": [],
   "source": [
    "df_train['Date'] = pd.to_datetime(df_train['Date'], format='%d.%m.%Y').dt.date\n",
    "df_train['Event ID'] = df_train['Event ID'].fillna(-1)"
   ]
  },
  {
   "cell_type": "code",
   "execution_count": 5,
   "metadata": {},
   "outputs": [
    {
     "data": {
      "text/html": [
       "<div>\n",
       "<style scoped>\n",
       "    .dataframe tbody tr th:only-of-type {\n",
       "        vertical-align: middle;\n",
       "    }\n",
       "\n",
       "    .dataframe tbody tr th {\n",
       "        vertical-align: top;\n",
       "    }\n",
       "\n",
       "    .dataframe thead th {\n",
       "        text-align: right;\n",
       "    }\n",
       "</style>\n",
       "<table border=\"1\" class=\"dataframe\">\n",
       "  <thead>\n",
       "    <tr style=\"text-align: right;\">\n",
       "      <th></th>\n",
       "      <th>Date</th>\n",
       "      <th>Time</th>\n",
       "      <th>Trainig/Test</th>\n",
       "      <th>Event ID</th>\n",
       "      <th>Title</th>\n",
       "      <th>Link</th>\n",
       "      <th>Abstract</th>\n",
       "    </tr>\n",
       "  </thead>\n",
       "  <tbody>\n",
       "    <tr>\n",
       "      <th>0</th>\n",
       "      <td>2019-02-05</td>\n",
       "      <td>18:45:44</td>\n",
       "      <td>Training</td>\n",
       "      <td>1.0</td>\n",
       "      <td>New dog food recall and latest warning on grai...</td>\n",
       "      <td>https://twitter.com/tweet/status/1092857075753...</td>\n",
       "      <td>New dog food recall and latest warning on grai...</td>\n",
       "    </tr>\n",
       "    <tr>\n",
       "      <th>1</th>\n",
       "      <td>2019-02-05</td>\n",
       "      <td>06:29:38</td>\n",
       "      <td>Training</td>\n",
       "      <td>1.0</td>\n",
       "      <td>New Dog Food Recall And The Latest Warning On ...</td>\n",
       "      <td>https://twitter.com/tweet/status/1092671572400...</td>\n",
       "      <td>New Dog Food Recall And The Latest Warning On ...</td>\n",
       "    </tr>\n",
       "    <tr>\n",
       "      <th>2</th>\n",
       "      <td>2019-02-05</td>\n",
       "      <td>18:40:20</td>\n",
       "      <td>Training</td>\n",
       "      <td>1.0</td>\n",
       "      <td>RT @BaybeeReade: Another dog food recall over ...</td>\n",
       "      <td>https://twitter.com/tweet/status/1092855599233...</td>\n",
       "      <td>RT @BaybeeReade: Another dog food recall over ...</td>\n",
       "    </tr>\n",
       "    <tr>\n",
       "      <th>3</th>\n",
       "      <td>2019-02-04</td>\n",
       "      <td>22:05:19</td>\n",
       "      <td>Training</td>\n",
       "      <td>1.0</td>\n",
       "      <td>Hill’s Pet Nutrition voluntary recall affects ...</td>\n",
       "      <td>https://twitter.com/tweet/status/1092544879400...</td>\n",
       "      <td>Hill’s Pet Nutrition voluntary recall affects ...</td>\n",
       "    </tr>\n",
       "    <tr>\n",
       "      <th>4</th>\n",
       "      <td>2019-02-05</td>\n",
       "      <td>08:53:45</td>\n",
       "      <td>Training</td>\n",
       "      <td>1.0</td>\n",
       "      <td>RT @mercnews: New dog food recall and the late...</td>\n",
       "      <td>https://twitter.com/tweet/status/1092707841809...</td>\n",
       "      <td>RT @mercnews: New dog food recall and the late...</td>\n",
       "    </tr>\n",
       "  </tbody>\n",
       "</table>\n",
       "</div>"
      ],
      "text/plain": [
       "         Date      Time Trainig/Test  Event ID  \\\n",
       "0  2019-02-05  18:45:44     Training       1.0   \n",
       "1  2019-02-05  06:29:38     Training       1.0   \n",
       "2  2019-02-05  18:40:20     Training       1.0   \n",
       "3  2019-02-04  22:05:19     Training       1.0   \n",
       "4  2019-02-05  08:53:45     Training       1.0   \n",
       "\n",
       "                                               Title  \\\n",
       "0  New dog food recall and latest warning on grai...   \n",
       "1  New Dog Food Recall And The Latest Warning On ...   \n",
       "2  RT @BaybeeReade: Another dog food recall over ...   \n",
       "3  Hill’s Pet Nutrition voluntary recall affects ...   \n",
       "4  RT @mercnews: New dog food recall and the late...   \n",
       "\n",
       "                                                Link  \\\n",
       "0  https://twitter.com/tweet/status/1092857075753...   \n",
       "1  https://twitter.com/tweet/status/1092671572400...   \n",
       "2  https://twitter.com/tweet/status/1092855599233...   \n",
       "3  https://twitter.com/tweet/status/1092544879400...   \n",
       "4  https://twitter.com/tweet/status/1092707841809...   \n",
       "\n",
       "                                            Abstract  \n",
       "0  New dog food recall and latest warning on grai...  \n",
       "1  New Dog Food Recall And The Latest Warning On ...  \n",
       "2  RT @BaybeeReade: Another dog food recall over ...  \n",
       "3  Hill’s Pet Nutrition voluntary recall affects ...  \n",
       "4  RT @mercnews: New dog food recall and the late...  "
      ]
     },
     "execution_count": 5,
     "metadata": {},
     "output_type": "execute_result"
    }
   ],
   "source": [
    "df_train.head()"
   ]
  },
  {
   "cell_type": "code",
   "execution_count": 6,
   "metadata": {},
   "outputs": [
    {
     "data": {
      "text/plain": [
       "<matplotlib.axes._subplots.AxesSubplot at 0x105bf8be0>"
      ]
     },
     "execution_count": 6,
     "metadata": {},
     "output_type": "execute_result"
    },
    {
     "data": {
      "image/png": "[encoded data removed]",
      "text/plain": [
       "<Figure size 432x288 with 1 Axes>"
      ]
     },
     "metadata": {
      "needs_background": "light"
     },
     "output_type": "display_data"
    }
   ],
   "source": [
    "sns.countplot(x='Event ID', data=df_train)"
   ]
  },
  {
   "cell_type": "code",
   "execution_count": 7,
   "metadata": {},
   "outputs": [
    {
     "data": {
      "text/plain": [
       "(array([ 0,  1,  2,  3,  4,  5,  6,  7,  8,  9, 10, 11, 12, 13, 14, 15]),\n",
       " <a list of 16 Text xticklabel objects>)"
      ]
     },
     "execution_count": 7,
     "metadata": {},
     "output_type": "execute_result"
    },
    {
     "data": {
      "image/png": "[encoded data removed]",
      "text/plain": [
       "<Figure size 432x288 with 1 Axes>"
      ]
     },
     "metadata": {
      "needs_background": "light"
     },
     "output_type": "display_data"
    }
   ],
   "source": [
    "sns.countplot(x='Date', data=df_train, order = sorted(set(df_train['Date'])))\n",
    "plt.xticks(rotation=90)"
   ]
  },
  {
   "cell_type": "code",
   "execution_count": 8,
   "metadata": {},
   "outputs": [
    {
     "data": {
      "text/plain": [
       "<matplotlib.axes._subplots.AxesSubplot at 0x106966208>"
      ]
     },
     "execution_count": 8,
     "metadata": {},
     "output_type": "execute_result"
    },
    {
     "data": {
      "image/png": "[encoded data removed]",
      "text/plain": [
       "<Figure size 1152x432 with 2 Axes>"
      ]
     },
     "metadata": {
      "needs_background": "light"
     },
     "output_type": "display_data"
    }
   ],
   "source": [
    "plt.figure(figsize=(16, 6))\n",
    "pivot = df_train.groupby(['Date','Event ID'], as_index=False)['Link'].\\\n",
    "            agg({'count':len}).\\\n",
    "            pivot('Date','Event ID','count')\n",
    "sns.heatmap(pivot, robust=True, annot=True, fmt='.4g')"
   ]
  },
  {
   "cell_type": "markdown",
   "metadata": {},
   "source": [
    "# NLP"
   ]
  },
  {
   "cell_type": "code",
   "execution_count": 9,
   "metadata": {},
   "outputs": [
    {
     "data": {
      "text/plain": [
       "0    New dog food recall and latest warning on grai...\n",
       "1    New Dog Food Recall And The Latest Warning On ...\n",
       "2    RT @BaybeeReade: Another dog food recall over ...\n",
       "3    Hill’s Pet Nutrition voluntary recall affects ...\n",
       "4    RT @mercnews: New dog food recall and the late...\n",
       "Name: Abstract, dtype: object"
      ]
     },
     "execution_count": 9,
     "metadata": {},
     "output_type": "execute_result"
    }
   ],
   "source": [
    "df_train['Abstract'].head()"
   ]
  },
  {
   "cell_type": "code",
   "execution_count": 10,
   "metadata": {},
   "outputs": [],
   "source": [
    "stoplist = set(stopwords.words('english'))"
   ]
  },
  {
   "cell_type": "markdown",
   "metadata": {},
   "source": [
    "### Tokenize and Remove Stopwords"
   ]
  },
  {
   "cell_type": "code",
   "execution_count": 11,
   "metadata": {},
   "outputs": [],
   "source": [
    "def tokenize_and_filter_stopwords(raw_text):\n",
    "    raw_text = str(raw_text)\n",
    "    tokens = wordpunct_tokenize(raw_text)\n",
    "    text = nltk.Text(tokens)\n",
    "    words = [w.lower() for w in text if w.isalpha()]\n",
    "    words = [word for word in words if word not in stoplist]\n",
    "\n",
    "    return words"
   ]
  },
  {
   "cell_type": "code",
   "execution_count": 12,
   "metadata": {},
   "outputs": [],
   "source": [
    "df_train['ab_clean'] = df_train['Abstract'].apply(tokenize_and_filter_stopwords)"
   ]
  },
  {
   "cell_type": "code",
   "execution_count": 13,
   "metadata": {},
   "outputs": [
    {
     "data": {
      "text/html": [
       "<div>\n",
       "<style scoped>\n",
       "    .dataframe tbody tr th:only-of-type {\n",
       "        vertical-align: middle;\n",
       "    }\n",
       "\n",
       "    .dataframe tbody tr th {\n",
       "        vertical-align: top;\n",
       "    }\n",
       "\n",
       "    .dataframe thead th {\n",
       "        text-align: right;\n",
       "    }\n",
       "</style>\n",
       "<table border=\"1\" class=\"dataframe\">\n",
       "  <thead>\n",
       "    <tr style=\"text-align: right;\">\n",
       "      <th></th>\n",
       "      <th>Abstract</th>\n",
       "      <th>ab_clean</th>\n",
       "    </tr>\n",
       "  </thead>\n",
       "  <tbody>\n",
       "    <tr>\n",
       "      <th>0</th>\n",
       "      <td>New dog food recall and latest warning on grai...</td>\n",
       "      <td>[new, dog, food, recall, latest, warning, grai...</td>\n",
       "    </tr>\n",
       "    <tr>\n",
       "      <th>1</th>\n",
       "      <td>New Dog Food Recall And The Latest Warning On ...</td>\n",
       "      <td>[new, dog, food, recall, latest, warning, grai...</td>\n",
       "    </tr>\n",
       "    <tr>\n",
       "      <th>2</th>\n",
       "      <td>RT @BaybeeReade: Another dog food recall over ...</td>\n",
       "      <td>[rt, baybeereade, another, dog, food, recall, ...</td>\n",
       "    </tr>\n",
       "    <tr>\n",
       "      <th>3</th>\n",
       "      <td>Hill’s Pet Nutrition voluntary recall affects ...</td>\n",
       "      <td>[hill, pet, nutrition, voluntary, recall, affe...</td>\n",
       "    </tr>\n",
       "    <tr>\n",
       "      <th>4</th>\n",
       "      <td>RT @mercnews: New dog food recall and the late...</td>\n",
       "      <td>[rt, mercnews, new, dog, food, recall, latest,...</td>\n",
       "    </tr>\n",
       "  </tbody>\n",
       "</table>\n",
       "</div>"
      ],
      "text/plain": [
       "                                            Abstract  \\\n",
       "0  New dog food recall and latest warning on grai...   \n",
       "1  New Dog Food Recall And The Latest Warning On ...   \n",
       "2  RT @BaybeeReade: Another dog food recall over ...   \n",
       "3  Hill’s Pet Nutrition voluntary recall affects ...   \n",
       "4  RT @mercnews: New dog food recall and the late...   \n",
       "\n",
       "                                            ab_clean  \n",
       "0  [new, dog, food, recall, latest, warning, grai...  \n",
       "1  [new, dog, food, recall, latest, warning, grai...  \n",
       "2  [rt, baybeereade, another, dog, food, recall, ...  \n",
       "3  [hill, pet, nutrition, voluntary, recall, affe...  \n",
       "4  [rt, mercnews, new, dog, food, recall, latest,...  "
      ]
     },
     "execution_count": 13,
     "metadata": {},
     "output_type": "execute_result"
    }
   ],
   "source": [
    "df_train[['Abstract', 'ab_clean']].head()"
   ]
  },
  {
   "cell_type": "markdown",
   "metadata": {},
   "source": [
    "### Phrases Model"
   ]
  },
  {
   "cell_type": "code",
   "execution_count": 14,
   "metadata": {},
   "outputs": [
    {
     "data": {
      "text/html": [
       "<div>\n",
       "<style scoped>\n",
       "    .dataframe tbody tr th:only-of-type {\n",
       "        vertical-align: middle;\n",
       "    }\n",
       "\n",
       "    .dataframe tbody tr th {\n",
       "        vertical-align: top;\n",
       "    }\n",
       "\n",
       "    .dataframe thead th {\n",
       "        text-align: right;\n",
       "    }\n",
       "</style>\n",
       "<table border=\"1\" class=\"dataframe\">\n",
       "  <thead>\n",
       "    <tr style=\"text-align: right;\">\n",
       "      <th></th>\n",
       "      <th>Abstract</th>\n",
       "      <th>ab_clean</th>\n",
       "      <th>ab_clean_ph</th>\n",
       "    </tr>\n",
       "  </thead>\n",
       "  <tbody>\n",
       "    <tr>\n",
       "      <th>0</th>\n",
       "      <td>New dog food recall and latest warning on grai...</td>\n",
       "      <td>[new, dog, food, recall, latest, warning, grai...</td>\n",
       "      <td>[new, dog_food, recall, latest_warning, grain_...</td>\n",
       "    </tr>\n",
       "    <tr>\n",
       "      <th>1</th>\n",
       "      <td>New Dog Food Recall And The Latest Warning On ...</td>\n",
       "      <td>[new, dog, food, recall, latest, warning, grai...</td>\n",
       "      <td>[new, dog_food, recall, latest_warning, grain_...</td>\n",
       "    </tr>\n",
       "    <tr>\n",
       "      <th>2</th>\n",
       "      <td>RT @BaybeeReade: Another dog food recall over ...</td>\n",
       "      <td>[rt, baybeereade, another, dog, food, recall, ...</td>\n",
       "      <td>[rt, baybeereade, another_dog, food, recall, d...</td>\n",
       "    </tr>\n",
       "    <tr>\n",
       "      <th>3</th>\n",
       "      <td>Hill’s Pet Nutrition voluntary recall affects ...</td>\n",
       "      <td>[hill, pet, nutrition, voluntary, recall, affe...</td>\n",
       "      <td>[hill_pet, nutrition, voluntary, recall_affect...</td>\n",
       "    </tr>\n",
       "    <tr>\n",
       "      <th>4</th>\n",
       "      <td>RT @mercnews: New dog food recall and the late...</td>\n",
       "      <td>[rt, mercnews, new, dog, food, recall, latest,...</td>\n",
       "      <td>[rt, mercnews, new, dog_food, recall, latest_w...</td>\n",
       "    </tr>\n",
       "  </tbody>\n",
       "</table>\n",
       "</div>"
      ],
      "text/plain": [
       "                                            Abstract  \\\n",
       "0  New dog food recall and latest warning on grai...   \n",
       "1  New Dog Food Recall And The Latest Warning On ...   \n",
       "2  RT @BaybeeReade: Another dog food recall over ...   \n",
       "3  Hill’s Pet Nutrition voluntary recall affects ...   \n",
       "4  RT @mercnews: New dog food recall and the late...   \n",
       "\n",
       "                                            ab_clean  \\\n",
       "0  [new, dog, food, recall, latest, warning, grai...   \n",
       "1  [new, dog, food, recall, latest, warning, grai...   \n",
       "2  [rt, baybeereade, another, dog, food, recall, ...   \n",
       "3  [hill, pet, nutrition, voluntary, recall, affe...   \n",
       "4  [rt, mercnews, new, dog, food, recall, latest,...   \n",
       "\n",
       "                                         ab_clean_ph  \n",
       "0  [new, dog_food, recall, latest_warning, grain_...  \n",
       "1  [new, dog_food, recall, latest_warning, grain_...  \n",
       "2  [rt, baybeereade, another_dog, food, recall, d...  \n",
       "3  [hill_pet, nutrition, voluntary, recall_affect...  \n",
       "4  [rt, mercnews, new, dog_food, recall, latest_w...  "
      ]
     },
     "execution_count": 14,
     "metadata": {},
     "output_type": "execute_result"
    }
   ],
   "source": [
    "bigram_model = Phraser(Phrases(df_train['ab_clean']))\n",
    "df_train['ab_clean_ph'] = df_train['ab_clean'].apply(lambda text: bigram_model[text])\n",
    "df_train[['Abstract','ab_clean','ab_clean_ph']].head()"
   ]
  },
  {
   "cell_type": "code",
   "execution_count": null,
   "metadata": {},
   "outputs": [],
   "source": [
    "## Baseline of supervised model"
   ]
  },
  {
   "cell_type": "code",
   "execution_count": 15,
   "metadata": {},
   "outputs": [],
   "source": [
    "vectorizer = TfidfVectorizer(min_df=2, max_features=1000)\n",
    "text_tfidf = vectorizer.fit_transform([' '.join(text) for text in df_train['ab_clean_ph']])\n",
    "X_train = text_tfidf\n",
    "y_train = df_train['Event ID']"
   ]
  },
  {
   "cell_type": "markdown",
   "metadata": {},
   "source": [
    "### Model"
   ]
  },
  {
   "cell_type": "code",
   "execution_count": 16,
   "metadata": {},
   "outputs": [
    {
     "name": "stderr",
     "output_type": "stream",
     "text": [
      "/Users/suhang/anaconda3/lib/python3.7/site-packages/sklearn/model_selection/_split.py:652: Warning: The least populated class in y has only 4 members, which is too few. The minimum number of members in any class cannot be less than n_splits=5.\n",
      "  % (min_groups, self.n_splits)), Warning)\n",
      "/Users/suhang/anaconda3/lib/python3.7/site-packages/sklearn/linear_model/logistic.py:460: FutureWarning: Default multi_class will be changed to 'auto' in 0.22. Specify the multi_class option to silence this warning.\n",
      "  \"this warning.\", FutureWarning)\n"
     ]
    },
    {
     "data": {
      "text/plain": [
       "GridSearchCV(cv=5, error_score='raise-deprecating',\n",
       "       estimator=LogisticRegression(C=1.0, class_weight='balanced', dual=False,\n",
       "          fit_intercept=True, intercept_scaling=1, max_iter=1000,\n",
       "          multi_class='warn', n_jobs=None, penalty='l1', random_state=None,\n",
       "          solver='liblinear', tol=0.0001, verbose=0, warm_start=False),\n",
       "       fit_params=None, iid='warn', n_jobs=4,\n",
       "       param_grid={'C': [0.0001, 0.001, 0.01, 0.1, 1, 10, 100, 1000, 10000]},\n",
       "       pre_dispatch='2*n_jobs', refit=True, return_train_score='warn',\n",
       "       scoring=None, verbose=0)"
      ]
     },
     "execution_count": 16,
     "metadata": {},
     "output_type": "execute_result"
    }
   ],
   "source": [
    "param_test_lr =  {'C' :[10 ** x for x in list(range(-4,5,1))]}\n",
    "gsearch_lr = GridSearchCV(estimator = LogisticRegression( \n",
    "        penalty='l1', \n",
    "        solver='liblinear',\n",
    "        max_iter=1000,\n",
    "        class_weight = 'balanced'\n",
    "    ),                   \n",
    "    param_grid = param_test_lr, \n",
    "    cv = 5,\n",
    "    n_jobs = 4)\n",
    "\n",
    "gsearch_lr.fit(X_train,y_train)"
   ]
  },
  {
   "cell_type": "code",
   "execution_count": 17,
   "metadata": {},
   "outputs": [
    {
     "data": {
      "text/plain": [
       "{'C': 10}"
      ]
     },
     "execution_count": 17,
     "metadata": {},
     "output_type": "execute_result"
    }
   ],
   "source": [
    "gsearch_lr.best_params_"
   ]
  },
  {
   "cell_type": "code",
   "execution_count": 18,
   "metadata": {},
   "outputs": [
    {
     "data": {
      "text/plain": [
       "0.9765718383934975"
      ]
     },
     "execution_count": 18,
     "metadata": {},
     "output_type": "execute_result"
    }
   ],
   "source": [
    "gsearch_lr.best_score_"
   ]
  },
  {
   "cell_type": "markdown",
   "metadata": {},
   "source": [
    "## Load Test Data and Preprocess"
   ]
  },
  {
   "cell_type": "code",
   "execution_count": 19,
   "metadata": {},
   "outputs": [],
   "source": [
    "df_test = pd.read_table('data/TestSet.txt', sep='\\t')"
   ]
  },
  {
   "cell_type": "code",
   "execution_count": 20,
   "metadata": {},
   "outputs": [],
   "source": [
    "df_test['Date'] = pd.to_datetime(df_train['Date'], format='%Y.%m.%d').dt.date\n",
    "df_test['Event ID'] = df_train['Event ID'].fillna(0)"
   ]
  },
  {
   "cell_type": "code",
   "execution_count": 21,
   "metadata": {},
   "outputs": [
    {
     "data": {
      "text/html": [
       "<div>\n",
       "<style scoped>\n",
       "    .dataframe tbody tr th:only-of-type {\n",
       "        vertical-align: middle;\n",
       "    }\n",
       "\n",
       "    .dataframe tbody tr th {\n",
       "        vertical-align: top;\n",
       "    }\n",
       "\n",
       "    .dataframe thead th {\n",
       "        text-align: right;\n",
       "    }\n",
       "</style>\n",
       "<table border=\"1\" class=\"dataframe\">\n",
       "  <thead>\n",
       "    <tr style=\"text-align: right;\">\n",
       "      <th></th>\n",
       "      <th>Date</th>\n",
       "      <th>Time</th>\n",
       "      <th>Training/Test</th>\n",
       "      <th>Title</th>\n",
       "      <th>Link</th>\n",
       "      <th>Abstract</th>\n",
       "      <th>Event ID</th>\n",
       "    </tr>\n",
       "  </thead>\n",
       "  <tbody>\n",
       "    <tr>\n",
       "      <th>0</th>\n",
       "      <td>2019-02-05</td>\n",
       "      <td>23:59:31</td>\n",
       "      <td>Test</td>\n",
       "      <td>@pccs_heron Salmonella</td>\n",
       "      <td>https://twitter.com/tweet/status/1103807421800...</td>\n",
       "      <td>@pccs_heron Salmonella</td>\n",
       "      <td>1.0</td>\n",
       "    </tr>\n",
       "    <tr>\n",
       "      <th>1</th>\n",
       "      <td>2019-02-05</td>\n",
       "      <td>23:59:20</td>\n",
       "      <td>Test</td>\n",
       "      <td>@richardlanigan @trishgreenhalgh No. It's not ...</td>\n",
       "      <td>https://twitter.com/tweet/status/1103807373196...</td>\n",
       "      <td>@richardlanigan @trishgreenhalgh No. It's not ...</td>\n",
       "      <td>1.0</td>\n",
       "    </tr>\n",
       "    <tr>\n",
       "      <th>2</th>\n",
       "      <td>2019-02-05</td>\n",
       "      <td>23:59:02</td>\n",
       "      <td>Test</td>\n",
       "      <td>@PatchouliW @BecciCath @MavenOfMayhem @SwiftOn...</td>\n",
       "      <td>https://twitter.com/tweet/status/1103807299389...</td>\n",
       "      <td>@PatchouliW @BecciCath @MavenOfMayhem @SwiftOn...</td>\n",
       "      <td>1.0</td>\n",
       "    </tr>\n",
       "    <tr>\n",
       "      <th>3</th>\n",
       "      <td>2019-02-04</td>\n",
       "      <td>23:57:08</td>\n",
       "      <td>Test</td>\n",
       "      <td>20 percent of seafood is mislabeled! Global fo...</td>\n",
       "      <td>https://twitter.com/tweet/status/1103806821456...</td>\n",
       "      <td>20 percent of seafood is mislabeled! Global fo...</td>\n",
       "      <td>1.0</td>\n",
       "    </tr>\n",
       "    <tr>\n",
       "      <th>4</th>\n",
       "      <td>2019-02-05</td>\n",
       "      <td>23:56:52</td>\n",
       "      <td>Test</td>\n",
       "      <td>#EuropeanCourt decided that #foodsafety and #e...</td>\n",
       "      <td>https://twitter.com/tweet/status/1103806755656...</td>\n",
       "      <td>#EuropeanCourt decided that #foodsafety and #e...</td>\n",
       "      <td>1.0</td>\n",
       "    </tr>\n",
       "  </tbody>\n",
       "</table>\n",
       "</div>"
      ],
      "text/plain": [
       "         Date      Time Training/Test  \\\n",
       "0  2019-02-05  23:59:31          Test   \n",
       "1  2019-02-05  23:59:20          Test   \n",
       "2  2019-02-05  23:59:02          Test   \n",
       "3  2019-02-04  23:57:08          Test   \n",
       "4  2019-02-05  23:56:52          Test   \n",
       "\n",
       "                                               Title  \\\n",
       "0                             @pccs_heron Salmonella   \n",
       "1  @richardlanigan @trishgreenhalgh No. It's not ...   \n",
       "2  @PatchouliW @BecciCath @MavenOfMayhem @SwiftOn...   \n",
       "3  20 percent of seafood is mislabeled! Global fo...   \n",
       "4  #EuropeanCourt decided that #foodsafety and #e...   \n",
       "\n",
       "                                                Link  \\\n",
       "0  https://twitter.com/tweet/status/1103807421800...   \n",
       "1  https://twitter.com/tweet/status/1103807373196...   \n",
       "2  https://twitter.com/tweet/status/1103807299389...   \n",
       "3  https://twitter.com/tweet/status/1103806821456...   \n",
       "4  https://twitter.com/tweet/status/1103806755656...   \n",
       "\n",
       "                                            Abstract  Event ID  \n",
       "0                             @pccs_heron Salmonella       1.0  \n",
       "1  @richardlanigan @trishgreenhalgh No. It's not ...       1.0  \n",
       "2  @PatchouliW @BecciCath @MavenOfMayhem @SwiftOn...       1.0  \n",
       "3  20 percent of seafood is mislabeled! Global fo...       1.0  \n",
       "4  #EuropeanCourt decided that #foodsafety and #e...       1.0  "
      ]
     },
     "execution_count": 21,
     "metadata": {},
     "output_type": "execute_result"
    }
   ],
   "source": [
    "df_test.head()"
   ]
  },
  {
   "cell_type": "code",
   "execution_count": 22,
   "metadata": {},
   "outputs": [],
   "source": [
    "df_test['ab_clean'] = df_test['Abstract'].apply(tokenize_and_filter_stopwords)"
   ]
  },
  {
   "cell_type": "code",
   "execution_count": 23,
   "metadata": {},
   "outputs": [
    {
     "data": {
      "text/html": [
       "<div>\n",
       "<style scoped>\n",
       "    .dataframe tbody tr th:only-of-type {\n",
       "        vertical-align: middle;\n",
       "    }\n",
       "\n",
       "    .dataframe tbody tr th {\n",
       "        vertical-align: top;\n",
       "    }\n",
       "\n",
       "    .dataframe thead th {\n",
       "        text-align: right;\n",
       "    }\n",
       "</style>\n",
       "<table border=\"1\" class=\"dataframe\">\n",
       "  <thead>\n",
       "    <tr style=\"text-align: right;\">\n",
       "      <th></th>\n",
       "      <th>Abstract</th>\n",
       "      <th>ab_clean</th>\n",
       "    </tr>\n",
       "  </thead>\n",
       "  <tbody>\n",
       "    <tr>\n",
       "      <th>0</th>\n",
       "      <td>@pccs_heron Salmonella</td>\n",
       "      <td>[salmonella]</td>\n",
       "    </tr>\n",
       "    <tr>\n",
       "      <th>1</th>\n",
       "      <td>@richardlanigan @trishgreenhalgh No. It's not ...</td>\n",
       "      <td>[richardlanigan, trishgreenhalgh, feaces, alon...</td>\n",
       "    </tr>\n",
       "    <tr>\n",
       "      <th>2</th>\n",
       "      <td>@PatchouliW @BecciCath @MavenOfMayhem @SwiftOn...</td>\n",
       "      <td>[patchouliw, beccicath, mavenofmayhem, swifton...</td>\n",
       "    </tr>\n",
       "    <tr>\n",
       "      <th>3</th>\n",
       "      <td>20 percent of seafood is mislabeled! Global fo...</td>\n",
       "      <td>[percent, seafood, mislabeled, global, food, s...</td>\n",
       "    </tr>\n",
       "    <tr>\n",
       "      <th>4</th>\n",
       "      <td>#EuropeanCourt decided that #foodsafety and #e...</td>\n",
       "      <td>[europeancourt, decided, foodsafety, environme...</td>\n",
       "    </tr>\n",
       "  </tbody>\n",
       "</table>\n",
       "</div>"
      ],
      "text/plain": [
       "                                            Abstract  \\\n",
       "0                             @pccs_heron Salmonella   \n",
       "1  @richardlanigan @trishgreenhalgh No. It's not ...   \n",
       "2  @PatchouliW @BecciCath @MavenOfMayhem @SwiftOn...   \n",
       "3  20 percent of seafood is mislabeled! Global fo...   \n",
       "4  #EuropeanCourt decided that #foodsafety and #e...   \n",
       "\n",
       "                                            ab_clean  \n",
       "0                                       [salmonella]  \n",
       "1  [richardlanigan, trishgreenhalgh, feaces, alon...  \n",
       "2  [patchouliw, beccicath, mavenofmayhem, swifton...  \n",
       "3  [percent, seafood, mislabeled, global, food, s...  \n",
       "4  [europeancourt, decided, foodsafety, environme...  "
      ]
     },
     "execution_count": 23,
     "metadata": {},
     "output_type": "execute_result"
    }
   ],
   "source": [
    "df_test[['Abstract', 'ab_clean']].head()"
   ]
  },
  {
   "cell_type": "code",
   "execution_count": 24,
   "metadata": {},
   "outputs": [
    {
     "data": {
      "text/html": [
       "<div>\n",
       "<style scoped>\n",
       "    .dataframe tbody tr th:only-of-type {\n",
       "        vertical-align: middle;\n",
       "    }\n",
       "\n",
       "    .dataframe tbody tr th {\n",
       "        vertical-align: top;\n",
       "    }\n",
       "\n",
       "    .dataframe thead th {\n",
       "        text-align: right;\n",
       "    }\n",
       "</style>\n",
       "<table border=\"1\" class=\"dataframe\">\n",
       "  <thead>\n",
       "    <tr style=\"text-align: right;\">\n",
       "      <th></th>\n",
       "      <th>Abstract</th>\n",
       "      <th>ab_clean</th>\n",
       "      <th>ab_clean_ph</th>\n",
       "    </tr>\n",
       "  </thead>\n",
       "  <tbody>\n",
       "    <tr>\n",
       "      <th>0</th>\n",
       "      <td>@pccs_heron Salmonella</td>\n",
       "      <td>[salmonella]</td>\n",
       "      <td>[salmonella]</td>\n",
       "    </tr>\n",
       "    <tr>\n",
       "      <th>1</th>\n",
       "      <td>@richardlanigan @trishgreenhalgh No. It's not ...</td>\n",
       "      <td>[richardlanigan, trishgreenhalgh, feaces, alon...</td>\n",
       "      <td>[richardlanigan, trishgreenhalgh, feaces, alon...</td>\n",
       "    </tr>\n",
       "    <tr>\n",
       "      <th>2</th>\n",
       "      <td>@PatchouliW @BecciCath @MavenOfMayhem @SwiftOn...</td>\n",
       "      <td>[patchouliw, beccicath, mavenofmayhem, swifton...</td>\n",
       "      <td>[patchouliw, beccicath, mavenofmayhem, swifton...</td>\n",
       "    </tr>\n",
       "    <tr>\n",
       "      <th>3</th>\n",
       "      <td>20 percent of seafood is mislabeled! Global fo...</td>\n",
       "      <td>[percent, seafood, mislabeled, global, food, s...</td>\n",
       "      <td>[percent, seafood, mislabeled, global, food_sa...</td>\n",
       "    </tr>\n",
       "    <tr>\n",
       "      <th>4</th>\n",
       "      <td>#EuropeanCourt decided that #foodsafety and #e...</td>\n",
       "      <td>[europeancourt, decided, foodsafety, environme...</td>\n",
       "      <td>[europeancourt, decided, foodsafety, environme...</td>\n",
       "    </tr>\n",
       "  </tbody>\n",
       "</table>\n",
       "</div>"
      ],
      "text/plain": [
       "                                            Abstract  \\\n",
       "0                             @pccs_heron Salmonella   \n",
       "1  @richardlanigan @trishgreenhalgh No. It's not ...   \n",
       "2  @PatchouliW @BecciCath @MavenOfMayhem @SwiftOn...   \n",
       "3  20 percent of seafood is mislabeled! Global fo...   \n",
       "4  #EuropeanCourt decided that #foodsafety and #e...   \n",
       "\n",
       "                                            ab_clean  \\\n",
       "0                                       [salmonella]   \n",
       "1  [richardlanigan, trishgreenhalgh, feaces, alon...   \n",
       "2  [patchouliw, beccicath, mavenofmayhem, swifton...   \n",
       "3  [percent, seafood, mislabeled, global, food, s...   \n",
       "4  [europeancourt, decided, foodsafety, environme...   \n",
       "\n",
       "                                         ab_clean_ph  \n",
       "0                                       [salmonella]  \n",
       "1  [richardlanigan, trishgreenhalgh, feaces, alon...  \n",
       "2  [patchouliw, beccicath, mavenofmayhem, swifton...  \n",
       "3  [percent, seafood, mislabeled, global, food_sa...  \n",
       "4  [europeancourt, decided, foodsafety, environme...  "
      ]
     },
     "execution_count": 24,
     "metadata": {},
     "output_type": "execute_result"
    }
   ],
   "source": [
    "bigram_model_test = Phraser(Phrases(df_test['ab_clean']))\n",
    "df_test['ab_clean_ph'] = df_test['ab_clean'].apply(lambda text: bigram_model_test[text])\n",
    "df_test[['Abstract','ab_clean','ab_clean_ph']].head()"
   ]
  },
  {
   "cell_type": "markdown",
   "metadata": {},
   "source": [
    "## LR_Model for Submission"
   ]
  },
  {
   "cell_type": "code",
   "execution_count": 46,
   "metadata": {},
   "outputs": [],
   "source": [
    "def tf_idf(df):\n",
    "    vectorizer = TfidfVectorizer(min_df=2, max_features=1000)\n",
    "    text_tfidf = vectorizer.fit_transform([' '.join(text) for text in df['ab_clean_ph']])\n",
    "    X = text_tfidf\n",
    "    y = df['Event ID']\n",
    "    return X, y"
   ]
  },
  {
   "cell_type": "code",
   "execution_count": 47,
   "metadata": {},
   "outputs": [],
   "source": [
    "def split_lab_unlabel(df):\n",
    "    label_ds = df[df['Event ID'] > 0 ]\n",
    "    unlabel_ds = df[df['Event ID'] < 0]\n",
    "    \n",
    "    return label_ds, unlabel_ds"
   ]
  },
  {
   "cell_type": "code",
   "execution_count": 55,
   "metadata": {},
   "outputs": [],
   "source": [
    "def concat_ds(train, test):\n",
    "    train_u = train\n",
    "    train_d = test[test['Event ID'] > 0]\n",
    "    new_train = pd.concat([train_u,train_d], ignore_index=True)\n",
    "    new_test = test\n",
    "    \n",
    "    return new_train, new_test"
   ]
  },
  {
   "cell_type": "code",
   "execution_count": 56,
   "metadata": {},
   "outputs": [],
   "source": [
    "def tune_param(X_train, y_train):\n",
    "    param_test_lr =  {'C' :[10 ** x for x in list(range(-4,5,1))]}\n",
    "    gsearch_lr = GridSearchCV(estimator = LogisticRegression( \n",
    "        penalty='l1', \n",
    "        solver='liblinear',\n",
    "        max_iter=1000,\n",
    "        class_weight = 'balanced'\n",
    "    ),                   \n",
    "    param_grid = param_test_lr, \n",
    "    cv = 5,\n",
    "    n_jobs = 4)\n",
    "\n",
    "    gsearch_lr.fit(X_train,y_train)\n",
    "    param = gsearch_lr.best_params_\n",
    "    C = param['C']\n",
    "    \n",
    "    return C"
   ]
  },
  {
   "cell_type": "code",
   "execution_count": 57,
   "metadata": {},
   "outputs": [],
   "source": [
    "def apply_lr_model(C, X_train, y_train, X_test):\n",
    "    '''\n",
    "    将模型应用于test得到结果\n",
    "    '''\n",
    "    lr_model = LogisticRegression(\n",
    "        penalty='l1',\n",
    "        C=C,\n",
    "        solver='liblinear',\n",
    "        max_iter=1000,\n",
    "        class_weight = 'balanced').fit(X_train,y_train)\n",
    "    predictions = lr_model.predict(X_test)\n",
    "    score = lr_model.score(X_train, y_train)\n",
    "    \n",
    "    return predictions"
   ]
  },
  {
   "cell_type": "code",
   "execution_count": 58,
   "metadata": {},
   "outputs": [],
   "source": [
    "def self_training(df_train):\n",
    "    label_ds,unlabel_ds = split_lab_unlabel(df_train)\n",
    "    while unlabel_ds.shape[0] > 0:\n",
    "        X_train, y_train = tf_idf(label_ds)\n",
    "        uX_test, uy_test = tf_idf(unlabel_ds)\n",
    "        C = tune_param(X_train, y_train)\n",
    "        predictions = apply_lr_model(C, X_train, y_train, uX_test)\n",
    "        unlabel_ds['Event ID'] = predictions\n",
    "        new_label_ds, unlabel_ds = split_lab_unlabel(unlabel_ds)\n",
    "        label_ds = concat_ds(label_ds, new_label_ds)\n",
    "        \n",
    "    return label_ds  "
   ]
  },
  {
   "cell_type": "code",
   "execution_count": 59,
   "metadata": {},
   "outputs": [
    {
     "name": "stderr",
     "output_type": "stream",
     "text": [
      "/Users/suhang/anaconda3/lib/python3.7/site-packages/sklearn/model_selection/_split.py:652: Warning: The least populated class in y has only 4 members, which is too few. The minimum number of members in any class cannot be less than n_splits=5.\n",
      "  % (min_groups, self.n_splits)), Warning)\n",
      "/Users/suhang/anaconda3/lib/python3.7/site-packages/sklearn/linear_model/logistic.py:460: FutureWarning: Default multi_class will be changed to 'auto' in 0.22. Specify the multi_class option to silence this warning.\n",
      "  \"this warning.\", FutureWarning)\n",
      "/Users/suhang/anaconda3/lib/python3.7/site-packages/ipykernel_launcher.py:8: SettingWithCopyWarning: \n",
      "A value is trying to be set on a copy of a slice from a DataFrame.\n",
      "Try using .loc[row_indexer,col_indexer] = value instead\n",
      "\n",
      "See the caveats in the documentation: http://pandas.pydata.org/pandas-docs/stable/indexing.html#indexing-view-versus-copy\n",
      "  \n"
     ]
    }
   ],
   "source": [
    "new_train = self_training(df_train)"
   ]
  },
  {
   "cell_type": "code",
   "execution_count": 66,
   "metadata": {},
   "outputs": [],
   "source": [
    "new_train = new_train[0]"
   ]
  },
  {
   "cell_type": "code",
   "execution_count": 67,
   "metadata": {},
   "outputs": [],
   "source": [
    "new_Xtrain, new_ytrain = tf_idf(new_train)"
   ]
  },
  {
   "cell_type": "code",
   "execution_count": 68,
   "metadata": {},
   "outputs": [
    {
     "name": "stderr",
     "output_type": "stream",
     "text": [
      "/Users/suhang/anaconda3/lib/python3.7/site-packages/sklearn/model_selection/_search.py:841: DeprecationWarning: The default of the `iid` parameter will change from True to False in version 0.22 and will be removed in 0.24. This will change numeric results when test-set sizes are unequal.\n",
      "  DeprecationWarning)\n",
      "/Users/suhang/anaconda3/lib/python3.7/site-packages/sklearn/linear_model/logistic.py:460: FutureWarning: Default multi_class will be changed to 'auto' in 0.22. Specify the multi_class option to silence this warning.\n",
      "  \"this warning.\", FutureWarning)\n"
     ]
    }
   ],
   "source": [
    "C = tune_param(new_Xtrain, new_ytrain)"
   ]
  },
  {
   "cell_type": "code",
   "execution_count": 69,
   "metadata": {},
   "outputs": [
    {
     "name": "stdout",
     "output_type": "stream",
     "text": [
      "10\n"
     ]
    }
   ],
   "source": [
    "print(C)"
   ]
  },
  {
   "cell_type": "code",
   "execution_count": 71,
   "metadata": {},
   "outputs": [
    {
     "name": "stderr",
     "output_type": "stream",
     "text": [
      "/Users/suhang/anaconda3/lib/python3.7/site-packages/sklearn/svm/base.py:922: ConvergenceWarning: Liblinear failed to converge, increase the number of iterations.\n",
      "  \"the number of iterations.\", ConvergenceWarning)\n"
     ]
    }
   ],
   "source": [
    "lr_model = LogisticRegression(\n",
    "        penalty='l1',\n",
    "        C=10,\n",
    "        solver='liblinear',\n",
    "        max_iter=1000,\n",
    "        class_weight = 'balanced').fit(new_Xtrain, new_ytrain)"
   ]
  },
  {
   "cell_type": "code",
   "execution_count": 72,
   "metadata": {},
   "outputs": [],
   "source": [
    "X_test, y_test = tf_idf(df_test)"
   ]
  },
  {
   "cell_type": "code",
   "execution_count": 73,
   "metadata": {},
   "outputs": [],
   "source": [
    "predictions = lr_model.predict(X_test)"
   ]
  },
  {
   "cell_type": "code",
   "execution_count": 75,
   "metadata": {},
   "outputs": [
    {
     "name": "stdout",
     "output_type": "stream",
     "text": [
      "0.9856562275878556\n"
     ]
    }
   ],
   "source": [
    "score = lr_model.score(new_Xtrain, new_ytrain)\n",
    "print(score)"
   ]
  },
  {
   "cell_type": "code",
   "execution_count": 76,
   "metadata": {},
   "outputs": [],
   "source": [
    "df_results = pd.read_table('data/sample_results.txt', sep='\\t')"
   ]
  },
  {
   "cell_type": "code",
   "execution_count": 77,
   "metadata": {},
   "outputs": [],
   "source": [
    "df_results['Event ID'] = predictions\n",
    "df_results.rename(columns={'Event ID':'Predicted Event ID'}, inplace=True)\n",
    "df_results.to_csv('data/results.csv')"
   ]
  }
 ],
 "metadata": {
  "kernelspec": {
   "display_name": "Python 3",
   "language": "python",
   "name": "python3"
  },
  "language_info": {
   "codemirror_mode": {
    "name": "ipython",
    "version": 3
   },
   "file_extension": ".py",
   "mimetype": "text/x-python",
   "name": "python",
   "nbconvert_exporter": "python",
   "pygments_lexer": "ipython3",
   "version": "3.7.1"
  }
 },
 "nbformat": 4,
 "nbformat_minor": 2
}
